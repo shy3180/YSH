{
 "cells": [
  {
   "cell_type": "code",
   "execution_count": 2,
   "metadata": {},
   "outputs": [
    {
     "name": "stdout",
     "output_type": "stream",
     "text": [
      "Requirement already satisfied: biopython in d:\\anaconda\\lib\\site-packages (1.83)\n",
      "Requirement already satisfied: numpy in d:\\anaconda\\lib\\site-packages (from biopython) (1.26.4)\n",
      "Note: you may need to restart the kernel to use updated packages.\n"
     ]
    }
   ],
   "source": [
    "pip install biopython"
   ]
  },
  {
   "cell_type": "code",
   "execution_count": 3,
   "metadata": {},
   "outputs": [
    {
     "name": "stdout",
     "output_type": "stream",
     "text": [
      "1.83\n"
     ]
    }
   ],
   "source": [
    "import Bio\n",
    "print(Bio.__version__)"
   ]
  },
  {
   "cell_type": "code",
   "execution_count": null,
   "metadata": {},
   "outputs": [],
   "source": []
  },
  {
   "cell_type": "code",
   "execution_count": 1,
   "metadata": {},
   "outputs": [
    {
     "name": "stdout",
     "output_type": "stream",
     "text": [
      "<Bio.SeqIO.FastaIO.FastaIterator object at 0x000001A59D14FC90>\n",
      "ID: test\n",
      "Name: test\n",
      "Description: test\n",
      "Number of features: 0\n",
      "Seq('ATTAAAGGTTTATACCTTCCCAGGTAACAAACCAACCAACTTTCGATCTCTTGT...AAC')\n"
     ]
    }
   ],
   "source": [
    "from Bio import SeqIO\n",
    "\n",
    "fasta_file = \"test.fasta\"\n",
    "sequences = SeqIO.parse(fasta_file, \"fasta\")\n",
    "\n",
    "print(sequence)\n",
    "\n",
    "for sequence in sequences:\n",
    "    print(sequence)"
   ]
  },
  {
   "cell_type": "code",
   "execution_count": 3,
   "metadata": {},
   "outputs": [
    {
     "name": "stdout",
     "output_type": "stream",
     "text": [
      "test1\n",
      "ATTAAAGGTTTATACCTTCCCAGGTAACAAACCAACCAACTTTCGATCTCTTGTAGATCTGTTCTCTAAACGAACTTTAAAATCTGTGTGGCTGTCACTCGGCTGCATGCTTAGTGCACTCACGCAGTATAATTAATAAC\n",
      "------\n",
      "test2\n",
      "TAATTACTGTCGTTGACAGGACACGAGTAACTCGTCTATCTTCTGCAGGCTGCTTACGGTTTCGTCCGTGTTGCAGCCGATCATCAGCACATCTAGGTTTCGTCCGGGTGTGACCGAAAGGTAAGATGGAGAGCCTTGTC\n",
      "------\n"
     ]
    }
   ],
   "source": [
    "from Bio import SeqIO\n",
    "sequences = SeqIO.parse(\"test2.fasta\", \"fasta\")\n",
    "\n",
    "for sequence in sequences:\n",
    "    print(sequence.id)\n",
    "    print(sequence.seq)\n",
    "    print(\"------\")"
   ]
  },
  {
   "cell_type": "code",
   "execution_count": 6,
   "metadata": {},
   "outputs": [
    {
     "name": "stdout",
     "output_type": "stream",
     "text": [
      "{'A': 41, 'T': 44, 'G': 22, 'C': 33}\n",
      "  base  count\n",
      "0    A     41\n",
      "1    T     44\n",
      "2    G     22\n",
      "3    C     33\n"
     ]
    },
    {
     "data": {
      "text/plain": [
       "<Axes: title={'center': 'base count'}, xlabel='base', ylabel='Count'>"
      ]
     },
     "execution_count": 6,
     "metadata": {},
     "output_type": "execute_result"
    },
    {
     "data": {
      "image/png": "[encoded data removed]",
      "text/plain": [
       "<Figure size 640x480 with 1 Axes>"
      ]
     },
     "metadata": {},
     "output_type": "display_data"
    }
   ],
   "source": [
    "from Bio import SeqIO\n",
    "\n",
    "data = dict()\n",
    "sequences = SeqIO.parse(\"test.fasta\", \"fasta\")\n",
    "\n",
    "for sequence in sequences:\n",
    "    for base in sequence.seq:\n",
    "        if base not in data:\n",
    "            data[base] = 0\n",
    "\n",
    "        data[base] += 1\n",
    "\n",
    "print(data)\n",
    "\n",
    "import pandas as pd\n",
    "df = pd.DataFrame({\"base\":data.keys(), \"count\":data.values()})\n",
    "print(df)\n",
    "\n",
    "df.plot(kind=\"bar\", x=\"base\", y=\"count\", title=\"base count\", ylabel=\"Count\")"
   ]
  },
  {
   "cell_type": "code",
   "execution_count": 13,
   "metadata": {},
   "outputs": [
    {
     "name": "stdout",
     "output_type": "stream",
     "text": [
      "[{'A': 41, 'T': 44, 'G': 22, 'C': 33}]\n"
     ]
    },
    {
     "ename": "TypeError",
     "evalue": "'dict' object is not callable",
     "output_type": "error",
     "traceback": [
      "\u001b[1;31m---------------------------------------------------------------------------\u001b[0m",
      "\u001b[1;31mTypeError\u001b[0m                                 Traceback (most recent call last)",
      "Cell \u001b[1;32mIn[13], line 21\u001b[0m\n\u001b[0;32m     18\u001b[0m df_data \u001b[38;5;241m=\u001b[39m {\u001b[38;5;124m\"\u001b[39m\u001b[38;5;124mbase\u001b[39m\u001b[38;5;124m\"\u001b[39m : data_all[\u001b[38;5;241m0\u001b[39m]\u001b[38;5;241m.\u001b[39mkeys()}\n\u001b[0;32m     20\u001b[0m \u001b[38;5;28;01mfor\u001b[39;00m i, data \u001b[38;5;129;01min\u001b[39;00m \u001b[38;5;28menumerate\u001b[39m(data_all):\n\u001b[1;32m---> 21\u001b[0m     df_data[\u001b[38;5;124mf\u001b[39m\u001b[38;5;124m\"\u001b[39m\u001b[38;5;124mcount\u001b[39m\u001b[38;5;132;01m{\u001b[39;00mi\u001b[38;5;132;01m}\u001b[39;00m\u001b[38;5;124m\"\u001b[39m] \u001b[38;5;241m=\u001b[39m [data(\u001b[38;5;124m\"\u001b[39m\u001b[38;5;124mA\u001b[39m\u001b[38;5;124m\"\u001b[39m), data(\u001b[38;5;124m\"\u001b[39m\u001b[38;5;124mT\u001b[39m\u001b[38;5;124m\"\u001b[39m), data(\u001b[38;5;124m\"\u001b[39m\u001b[38;5;124mG\u001b[39m\u001b[38;5;124m\"\u001b[39m), data(\u001b[38;5;124m\"\u001b[39m\u001b[38;5;124mC\u001b[39m\u001b[38;5;124m\"\u001b[39m)]\n\u001b[0;32m     22\u001b[0m \u001b[38;5;28mprint\u001b[39m(df_data)\n\u001b[0;32m     23\u001b[0m df \u001b[38;5;241m=\u001b[39m pd\u001b[38;5;241m.\u001b[39mDataFrame(df_data)\n",
      "\u001b[1;31mTypeError\u001b[0m: 'dict' object is not callable"
     ]
    }
   ],
   "source": [
    "from Bio import SeqIO\n",
    "\n",
    "data_all = list()\n",
    "sequences = SeqIO.parse(\"test.fasta\", \"fasta\")\n",
    "\n",
    "for sequence in sequences:\n",
    "    data = dict()\n",
    "    for base in sequence.seq:\n",
    "        if base not in data:\n",
    "            data[base] = 0\n",
    "\n",
    "        data[base] += 1\n",
    "    data_all.append(data)\n",
    "\n",
    "print(data_all)\n",
    "\n",
    "import pandas as pd\n",
    "df_data = {\"base\" : data_all[0].keys()}\n",
    "\n",
    "for i, data in enumerate(data_all):\n",
    "    df_data[f\"count{i}\"] = [data(\"A\"), data(\"T\"), data(\"G\"), data(\"C\")]\n",
    "print(df_data)\n",
    "df = pd.DataFrame(df_data)\n",
    "df.plot(kind=\"bar\", x=\"base\", y=\"count\", title=\"Base Count\", ylabel=\"Count\")"
   ]
  },
  {
   "cell_type": "code",
   "execution_count": 20,
   "metadata": {},
   "outputs": [
    {
     "ename": "NameError",
     "evalue": "name 'SeqIo' is not defined",
     "output_type": "error",
     "traceback": [
      "\u001b[1;31m---------------------------------------------------------------------------\u001b[0m",
      "\u001b[1;31mNameError\u001b[0m                                 Traceback (most recent call last)",
      "Cell \u001b[1;32mIn[20], line 4\u001b[0m\n\u001b[0;32m      1\u001b[0m \u001b[38;5;28;01mfrom\u001b[39;00m \u001b[38;5;21;01mBio\u001b[39;00m \u001b[38;5;28;01mimport\u001b[39;00m SeqIO\n\u001b[0;32m      3\u001b[0m data_all \u001b[38;5;241m=\u001b[39m \u001b[38;5;28mlist\u001b[39m()\n\u001b[1;32m----> 4\u001b[0m sequences \u001b[38;5;241m=\u001b[39m SeqIo\u001b[38;5;241m.\u001b[39mparse(\u001b[38;5;124m\"\u001b[39m\u001b[38;5;124mtest3.fasta\u001b[39m\u001b[38;5;124m\"\u001b[39m, \u001b[38;5;124m\"\u001b[39m\u001b[38;5;124mfasta\u001b[39m\u001b[38;5;124m\"\u001b[39m)\n\u001b[0;32m      6\u001b[0m \u001b[38;5;28;01mfor\u001b[39;00m sequence \u001b[38;5;129;01min\u001b[39;00m sequences:\n\u001b[0;32m      7\u001b[0m     data \u001b[38;5;241m=\u001b[39m \u001b[38;5;28mdict\u001b[39m()\n",
      "\u001b[1;31mNameError\u001b[0m: name 'SeqIo' is not defined"
     ]
    }
   ],
   "source": [
    "from Bio import SeqIO\n",
    "\n",
    "data_all = list()\n",
    "sequences = SeqIo.parse(\"test3.fasta\", \"fasta\")\n",
    "\n",
    "for sequence in sequences:\n",
    "    data = dict()\n",
    "    for base in sequence.seq:\n",
    "        if base not in data:\n",
    "            data[base] = 0\n",
    "\n",
    "        data[base] += 1\n",
    "    data_all.append(data)\n",
    "\n",
    "print(data_all)\n",
    "\n",
    "import pandas as pd\n",
    "df_data = {\"base\" : data_all[0].keys()}\n",
    "\n",
    "for i, data in enumerate(data_all):\n",
    "    df_data[f\"count{i}\"] = [data(\"A\"), data(\"T\"), data(\"G\"), data(\"C\")]\n",
    "print(df_data)\n",
    "df = pd.DataFrame(df_data)\n",
    "df.plot(kind=\"bar\", x=\"base\", y=\"count\", title=\"Base Count\", ylabel=\"Count\")"
   ]
  },
  {
   "cell_type": "code",
   "execution_count": 19,
   "metadata": {},
   "outputs": [
    {
     "name": "stdout",
     "output_type": "stream",
     "text": [
      "{'A': 17949, 'T': 19232, 'G': 11748, 'C': 11017}\n",
      "  base  count\n",
      "0    A  17949\n",
      "1    T  19232\n",
      "2    G  11748\n",
      "3    C  11017\n"
     ]
    },
    {
     "data": {
      "text/plain": [
       "<Axes: title={'center': 'covid-19 base count'}, xlabel='base', ylabel='count'>"
      ]
     },
     "execution_count": 19,
     "metadata": {},
     "output_type": "execute_result"
    },
    {
     "data": {
      "image/png": "[encoded data removed]",
      "text/plain": [
       "<Figure size 640x480 with 1 Axes>"
      ]
     },
     "metadata": {},
     "output_type": "display_data"
    }
   ],
   "source": [
    "from Bio import SeqIO\n",
    "\n",
    "sequences = SeqIO.parse(\"NC_045512.gb\", \"genbank\")\n",
    "for sequence in sequences:\n",
    "    for base in sequence.seq:\n",
    "        if base not in data:\n",
    "            data[base] = 0\n",
    "\n",
    "        data[base] += 1\n",
    "\n",
    "print(data)\n",
    "\n",
    "import pandas as pd \n",
    "df= pd.DataFrame({\"base\":data.keys(), \"count\":data.values()})\n",
    "print(df)\n",
    "df.plot(kind=\"bar\", x=\"base\", y=\"count\", ylabel=\"count\", title=\"covid-19 base count\")"
   ]
  },
  {
   "cell_type": "code",
   "execution_count": null,
   "metadata": {},
   "outputs": [],
   "source": []
  }
 ],
 "metadata": {
  "kernelspec": {
   "display_name": "base",
   "language": "python",
   "name": "python3"
  },
  "language_info": {
   "codemirror_mode": {
    "name": "ipython",
    "version": 3
   },
   "file_extension": ".py",
   "mimetype": "text/x-python",
   "name": "python",
   "nbconvert_exporter": "python",
   "pygments_lexer": "ipython3",
   "version": "3.11.7"
  }
 },
 "nbformat": 4,
 "nbformat_minor": 2
}
